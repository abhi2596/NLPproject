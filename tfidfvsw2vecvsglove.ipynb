{
  "nbformat": 4,
  "nbformat_minor": 0,
  "metadata": {
    "colab": {
      "name": "tfidfvsw2vecvsglove.ipynb",
      "provenance": [],
      "collapsed_sections": []
    },
    "kernelspec": {
      "name": "python3",
      "display_name": "Python 3"
    },
    "language_info": {
      "name": "python"
    }
  },
  "cells": [
    {
      "cell_type": "code",
      "metadata": {
        "id": "mt22j-xvd8Kp"
      },
      "source": [
        "import pandas as pd\n",
        "import numpy as np"
      ],
      "execution_count": 1,
      "outputs": []
    },
    {
      "cell_type": "code",
      "metadata": {
        "colab": {
          "base_uri": "https://localhost:8080/"
        },
        "id": "hNE6tN1rdyUU",
        "outputId": "1f29a3d5-e4fb-44b6-d09f-32425c16a879"
      },
      "source": [
        "# from google.colab import drive\n",
        "# drive.mount('/content/drive')\n",
        "\n",
        "df = pd.read_csv('Reddit_Data.csv')\n",
        "df.columns=[\"reddit\",\"class\"]\n",
        "print(df.head())\n",
        "print(df.columns)\n",
        "df.info()"
      ],
      "execution_count": 55,
      "outputs": [
        {
          "output_type": "stream",
          "name": "stdout",
          "text": [
            "                                              reddit  class\n",
            "0   family mormon have never tried explain them t...      1\n",
            "1  buddhism has very much lot compatible with chr...      1\n",
            "2  seriously don say thing first all they won get...     -1\n",
            "3  what you have learned yours and only yours wha...      0\n",
            "4  for your own benefit you may want read living ...      1\n",
            "Index(['reddit', 'class'], dtype='object')\n",
            "<class 'pandas.core.frame.DataFrame'>\n",
            "RangeIndex: 37249 entries, 0 to 37248\n",
            "Data columns (total 2 columns):\n",
            " #   Column  Non-Null Count  Dtype \n",
            "---  ------  --------------  ----- \n",
            " 0   reddit  37149 non-null  object\n",
            " 1   class   37249 non-null  int64 \n",
            "dtypes: int64(1), object(1)\n",
            "memory usage: 582.1+ KB\n"
          ]
        }
      ]
    },
    {
      "cell_type": "code",
      "metadata": {
        "colab": {
          "base_uri": "https://localhost:8080/",
          "height": 206
        },
        "id": "3YoI9MaT27er",
        "outputId": "bf348306-9d87-41c1-e999-1ba4b4454b89"
      },
      "source": [
        "df.head()"
      ],
      "execution_count": 3,
      "outputs": [
        {
          "output_type": "execute_result",
          "data": {
            "text/html": [
              "<div>\n",
              "<style scoped>\n",
              "    .dataframe tbody tr th:only-of-type {\n",
              "        vertical-align: middle;\n",
              "    }\n",
              "\n",
              "    .dataframe tbody tr th {\n",
              "        vertical-align: top;\n",
              "    }\n",
              "\n",
              "    .dataframe thead th {\n",
              "        text-align: right;\n",
              "    }\n",
              "</style>\n",
              "<table border=\"1\" class=\"dataframe\">\n",
              "  <thead>\n",
              "    <tr style=\"text-align: right;\">\n",
              "      <th></th>\n",
              "      <th>reddit</th>\n",
              "      <th>class</th>\n",
              "    </tr>\n",
              "  </thead>\n",
              "  <tbody>\n",
              "    <tr>\n",
              "      <th>0</th>\n",
              "      <td>family mormon have never tried explain them t...</td>\n",
              "      <td>1</td>\n",
              "    </tr>\n",
              "    <tr>\n",
              "      <th>1</th>\n",
              "      <td>buddhism has very much lot compatible with chr...</td>\n",
              "      <td>1</td>\n",
              "    </tr>\n",
              "    <tr>\n",
              "      <th>2</th>\n",
              "      <td>seriously don say thing first all they won get...</td>\n",
              "      <td>-1</td>\n",
              "    </tr>\n",
              "    <tr>\n",
              "      <th>3</th>\n",
              "      <td>what you have learned yours and only yours wha...</td>\n",
              "      <td>0</td>\n",
              "    </tr>\n",
              "    <tr>\n",
              "      <th>4</th>\n",
              "      <td>for your own benefit you may want read living ...</td>\n",
              "      <td>1</td>\n",
              "    </tr>\n",
              "  </tbody>\n",
              "</table>\n",
              "</div>"
            ],
            "text/plain": [
              "                                              reddit  class\n",
              "0   family mormon have never tried explain them t...      1\n",
              "1  buddhism has very much lot compatible with chr...      1\n",
              "2  seriously don say thing first all they won get...     -1\n",
              "3  what you have learned yours and only yours wha...      0\n",
              "4  for your own benefit you may want read living ...      1"
            ]
          },
          "metadata": {},
          "execution_count": 3
        }
      ]
    },
    {
      "cell_type": "code",
      "metadata": {
        "colab": {
          "base_uri": "https://localhost:8080/",
          "height": 335
        },
        "id": "4z4ZCNENevc2",
        "outputId": "569bc5ba-64a5-4ba5-ed1c-9ec14831a0dc"
      },
      "source": [
        "df['class'].value_counts().plot(kind='bar')\n",
        "print(df['class'].value_counts())"
      ],
      "execution_count": 5,
      "outputs": [
        {
          "output_type": "stream",
          "name": "stdout",
          "text": [
            " 1    15830\n",
            " 0    13142\n",
            "-1     8277\n",
            "Name: class, dtype: int64\n"
          ]
        },
        {
          "output_type": "display_data",
          "data": {
            "image/png": "[encoded data removed]",
            "text/plain": [
              "<Figure size 432x288 with 1 Axes>"
            ]
          },
          "metadata": {
            "needs_background": "light"
          }
        }
      ]
    },
    {
      "cell_type": "code",
      "metadata": {
        "colab": {
          "base_uri": "https://localhost:8080/",
          "height": 241
        },
        "id": "_vCi3Xsteb4c",
        "outputId": "71399634-92eb-49b6-efbe-3ec490ba0190"
      },
      "source": [
        "print(df.shape)\n",
        "df.dropna(axis = 0, inplace = True)\n",
        "print(df.shape)\n",
        "df.head()"
      ],
      "execution_count": 6,
      "outputs": [
        {
          "output_type": "stream",
          "name": "stdout",
          "text": [
            "(37249, 2)\n",
            "(37149, 2)\n"
          ]
        },
        {
          "output_type": "execute_result",
          "data": {
            "text/html": [
              "<div>\n",
              "<style scoped>\n",
              "    .dataframe tbody tr th:only-of-type {\n",
              "        vertical-align: middle;\n",
              "    }\n",
              "\n",
              "    .dataframe tbody tr th {\n",
              "        vertical-align: top;\n",
              "    }\n",
              "\n",
              "    .dataframe thead th {\n",
              "        text-align: right;\n",
              "    }\n",
              "</style>\n",
              "<table border=\"1\" class=\"dataframe\">\n",
              "  <thead>\n",
              "    <tr style=\"text-align: right;\">\n",
              "      <th></th>\n",
              "      <th>reddit</th>\n",
              "      <th>class</th>\n",
              "    </tr>\n",
              "  </thead>\n",
              "  <tbody>\n",
              "    <tr>\n",
              "      <th>0</th>\n",
              "      <td>family mormon have never tried explain them t...</td>\n",
              "      <td>1</td>\n",
              "    </tr>\n",
              "    <tr>\n",
              "      <th>1</th>\n",
              "      <td>buddhism has very much lot compatible with chr...</td>\n",
              "      <td>1</td>\n",
              "    </tr>\n",
              "    <tr>\n",
              "      <th>2</th>\n",
              "      <td>seriously don say thing first all they won get...</td>\n",
              "      <td>-1</td>\n",
              "    </tr>\n",
              "    <tr>\n",
              "      <th>3</th>\n",
              "      <td>what you have learned yours and only yours wha...</td>\n",
              "      <td>0</td>\n",
              "    </tr>\n",
              "    <tr>\n",
              "      <th>4</th>\n",
              "      <td>for your own benefit you may want read living ...</td>\n",
              "      <td>1</td>\n",
              "    </tr>\n",
              "  </tbody>\n",
              "</table>\n",
              "</div>"
            ],
            "text/plain": [
              "                                              reddit  class\n",
              "0   family mormon have never tried explain them t...      1\n",
              "1  buddhism has very much lot compatible with chr...      1\n",
              "2  seriously don say thing first all they won get...     -1\n",
              "3  what you have learned yours and only yours wha...      0\n",
              "4  for your own benefit you may want read living ...      1"
            ]
          },
          "metadata": {},
          "execution_count": 6
        }
      ]
    },
    {
      "cell_type": "code",
      "metadata": {
        "colab": {
          "base_uri": "https://localhost:8080/"
        },
        "id": "N3DBwSB4RsL7",
        "outputId": "888cd019-2e6c-440f-aff2-3b93306489be"
      },
      "source": [
        "print(df.iloc[22]['reddit'])"
      ],
      "execution_count": 10,
      "outputs": [
        {
          "output_type": "stream",
          "name": "stdout",
          "text": [
            "cliche but you can wrong with cyric mean was mortal who just nabbed all when got the chance you gotta respect that\n"
          ]
        }
      ]
    },
    {
      "cell_type": "code",
      "metadata": {
        "id": "L-GiRC-nefRk"
      },
      "source": [
        "df['reddit'] = df['reddit'].replace(r'http[s]*:\\/\\/.*|<[^<>]*>|@[^\\s]+|[!\"$%&()*+,./:;<=>?@[\\]^_`{|}~]', ' ', regex=True)\n",
        "df['reddit'] = df['reddit'].replace(r'\\s\\s+', ' ', regex=True)\n",
        "df['reddit'] = df['reddit'].replace(r'\\s$|^\\s', '', regex=True)\n",
        "df['reddit'] = df['reddit'].replace(r'[^a-zA-Z_ ]+', '', regex=True)\n",
        "df['reddit'] = df['reddit'].str.lower()"
      ],
      "execution_count": 8,
      "outputs": []
    },
    {
      "cell_type": "code",
      "metadata": {
        "colab": {
          "base_uri": "https://localhost:8080/"
        },
        "id": "_RJExzPgPtyl",
        "outputId": "77446e0b-1453-4a97-f390-6debb0d517b6"
      },
      "source": [
        "print(df.iloc[22]['reddit'])"
      ],
      "execution_count": 12,
      "outputs": [
        {
          "output_type": "stream",
          "name": "stdout",
          "text": [
            "cliche but you can wrong with cyric mean was mortal who just nabbed all when got the chance you gotta respect that\n"
          ]
        }
      ]
    },
    {
      "cell_type": "markdown",
      "metadata": {
        "id": "yU_BZRm3thad"
      },
      "source": [
        "### **Lemmatization and stopword removal**"
      ]
    },
    {
      "cell_type": "code",
      "metadata": {
        "colab": {
          "base_uri": "https://localhost:8080/"
        },
        "id": "Z5HeMwl5rzR2",
        "outputId": "099d8887-3074-4cd4-dd50-0de5206b2498"
      },
      "source": [
        "from nltk.tokenize import word_tokenize\n",
        "from nltk.stem import WordNetLemmatizer\n",
        "import nltk\n",
        "nltk.download('stopwords')\n",
        "nltk.download('wordnet')\n",
        "nltk.download('punkt')\n",
        "from nltk.corpus import stopwords\n",
        "\n",
        "stopwords_nltk = set(stopwords.words('english'))\n",
        "from sklearn.feature_extraction import text\n",
        "\n",
        "lemmatizer = WordNetLemmatizer()\n",
        "\n",
        "def lemmatise(x):\n",
        "  try:\n",
        "    tokens = word_tokenize(x)\n",
        "    return \" \".join([lemmatizer.lemmatize(token) for token in tokens])\n",
        "  except:\n",
        "    return\n",
        "\n",
        "def remove_stopwords(s):\n",
        "    s = ' '.join(word for word in s.split() if word not in stopwords_nltk)\n",
        "    return s"
      ],
      "execution_count": 57,
      "outputs": [
        {
          "output_type": "stream",
          "name": "stdout",
          "text": [
            "[nltk_data] Downloading package stopwords to /root/nltk_data...\n",
            "[nltk_data]   Package stopwords is already up-to-date!\n",
            "[nltk_data] Downloading package wordnet to /root/nltk_data...\n",
            "[nltk_data]   Package wordnet is already up-to-date!\n",
            "[nltk_data] Downloading package punkt to /root/nltk_data...\n",
            "[nltk_data]   Package punkt is already up-to-date!\n"
          ]
        }
      ]
    },
    {
      "cell_type": "markdown",
      "metadata": {
        "id": "bc4a-YXytrCN"
      },
      "source": [
        "### **Remove stop words**"
      ]
    },
    {
      "cell_type": "code",
      "metadata": {
        "id": "gRPOVGGmsFxP"
      },
      "source": [
        "for reddit in df.reddit.values:\n",
        "  reddit = lemmatise(reddit)\n",
        "df.loc[:,\"reddit\"] = df.reddit.apply(lambda x: remove_stopwords(x))"
      ],
      "execution_count": 16,
      "outputs": []
    },
    {
      "cell_type": "code",
      "metadata": {
        "colab": {
          "base_uri": "https://localhost:8080/"
        },
        "id": "PeSwNilVvDzl",
        "outputId": "8392bfe6-a0fc-4428-bcab-6eb484700e6f"
      },
      "source": [
        "print(df.iloc[22]['reddit'])"
      ],
      "execution_count": 59,
      "outputs": [
        {
          "output_type": "stream",
          "name": "stdout",
          "text": [
            " cliche but you can wrong with cyric mean was mortal who just nabbed all when got the chance you gotta respect that \n"
          ]
        }
      ]
    },
    {
      "cell_type": "markdown",
      "metadata": {
        "id": "ZvsYlBK5t1tU"
      },
      "source": [
        "### **Data Splitting**"
      ]
    },
    {
      "cell_type": "code",
      "metadata": {
        "id": "YdGBUt3ddUKx"
      },
      "source": [
        "from sklearn.model_selection import train_test_split\n",
        "\n",
        "X_train, X_test = train_test_split(df, test_size=0.2)\n",
        "y_train = X_train['class']\n",
        "X_train = X_train.drop(['class'], axis = 1)\n",
        "y_test = X_test['class']\n",
        "X_test = X_test.drop(['class'], axis = 1)"
      ],
      "execution_count": 18,
      "outputs": []
    },
    {
      "cell_type": "code",
      "metadata": {
        "colab": {
          "base_uri": "https://localhost:8080/"
        },
        "id": "TQTzd5Zt_xG5",
        "outputId": "51491348-2c59-4b70-bc2a-b71425c82217"
      },
      "source": [
        "from nltk.tokenize import word_tokenize\n",
        "import nltk\n",
        "nltk.download('punkt')\n",
        "vocab = set()\n",
        "max_length = -1\n",
        "len_of_sent = []\n",
        "for tweet in X_train.reddit.values:\n",
        "  tokens = word_tokenize(tweet.strip())\n",
        "  max_length = max(max_length, len(tokens))\n",
        "  len_of_sent.append(len(tokens))\n",
        "  vocab = vocab.union(set(tokens))\n",
        "vocab_len = len(vocab)\n",
        "print(len(vocab))\n",
        "print(max_length)"
      ],
      "execution_count": 19,
      "outputs": [
        {
          "output_type": "stream",
          "name": "stdout",
          "text": [
            "[nltk_data] Downloading package punkt to /root/nltk_data...\n",
            "[nltk_data]   Package punkt is already up-to-date!\n",
            "45398\n",
            "872\n"
          ]
        }
      ]
    },
    {
      "cell_type": "markdown",
      "metadata": {
        "id": "yY8Xntu8t-2p"
      },
      "source": [
        "### **Models using tfIdf**"
      ]
    },
    {
      "cell_type": "code",
      "metadata": {
        "id": "NJM1g3smfIgF"
      },
      "source": [
        "from sklearn.feature_extraction.text import TfidfVectorizer\n",
        "vectorizer = TfidfVectorizer()\n",
        "tfidf_train = []\n",
        "tfidf_train=vectorizer.fit_transform(X_train[\"reddit\"].values.tolist())\n",
        "tfidf_test=[]\n",
        "tfidf_test=vectorizer.transform(X_test[\"reddit\"].values.tolist())"
      ],
      "execution_count": 20,
      "outputs": []
    },
    {
      "cell_type": "markdown",
      "metadata": {
        "id": "c9TvQuhhuEjV"
      },
      "source": [
        "### **Lr using tfIdf**"
      ]
    },
    {
      "cell_type": "code",
      "metadata": {
        "id": "eIc5nX_ifnn7"
      },
      "source": [
        "accuracylr=[]\n",
        "f1scorelr=[]\n",
        "from sklearn.linear_model import LogisticRegression\n",
        "from sklearn.metrics import precision_score, recall_score, f1_score, accuracy_score,classification_report\n",
        "lr=LogisticRegression(max_iter=10000)\n",
        "lr.fit(tfidf_train,y_train)\n",
        "y_pred=lr.predict(tfidf_test)"
      ],
      "execution_count": 21,
      "outputs": []
    },
    {
      "cell_type": "code",
      "metadata": {
        "colab": {
          "base_uri": "https://localhost:8080/"
        },
        "id": "0sAGWlgyQxoh",
        "outputId": "f3d62c19-f06e-423e-b479-5d59d120f4a6"
      },
      "source": [
        "print(accuracy_score(y_pred,y_test))\n",
        "print(f1_score(y_pred,y_test,average=\"weighted\"))\n",
        "print(classification_report(y_pred,y_test))\n",
        "accuracylr.append(accuracy_score(y_pred,y_test))\n",
        "f1scorelr.append(f1_score(y_pred,y_test,average=\"weighted\"))"
      ],
      "execution_count": 22,
      "outputs": [
        {
          "output_type": "stream",
          "name": "stdout",
          "text": [
            "0.8398384925975774\n",
            "0.8450907133054233\n",
            "              precision    recall  f1-score   support\n",
            "\n",
            "          -1       0.61      0.87      0.72      1138\n",
            "           0       0.95      0.82      0.88      3063\n",
            "           1       0.87      0.85      0.86      3229\n",
            "\n",
            "    accuracy                           0.84      7430\n",
            "   macro avg       0.81      0.85      0.82      7430\n",
            "weighted avg       0.86      0.84      0.85      7430\n",
            "\n"
          ]
        }
      ]
    },
    {
      "cell_type": "markdown",
      "metadata": {
        "id": "EFzBB3vGuIxg"
      },
      "source": [
        "### **dt using tfIdf**"
      ]
    },
    {
      "cell_type": "code",
      "metadata": {
        "id": "6WHOhdG2OZI3"
      },
      "source": [
        "accuracydt=[]\n",
        "f1scoredt=[]\n",
        "from sklearn.tree import DecisionTreeClassifier\n",
        "dt=DecisionTreeClassifier()\n",
        "dt.fit(tfidf_train,y_train)\n",
        "y_pred=dt.predict(tfidf_test)"
      ],
      "execution_count": 23,
      "outputs": []
    },
    {
      "cell_type": "code",
      "metadata": {
        "colab": {
          "base_uri": "https://localhost:8080/"
        },
        "id": "UZuEwagfOv14",
        "outputId": "ccd3f3fd-000b-487c-d726-4e0614b61c2f"
      },
      "source": [
        "print(accuracy_score(y_pred,y_test))\n",
        "print(f1_score(y_pred,y_test,average=\"weighted\"))\n",
        "print(classification_report(y_pred,y_test))\n",
        "accuracydt.append(accuracy_score(y_pred,y_test))\n",
        "f1scoredt.append(f1_score(y_pred,y_test,average=\"weighted\"))"
      ],
      "execution_count": 24,
      "outputs": [
        {
          "output_type": "stream",
          "name": "stdout",
          "text": [
            "0.7995962314939434\n",
            "0.8014698013438668\n",
            "              precision    recall  f1-score   support\n",
            "\n",
            "          -1       0.62      0.66      0.64      1524\n",
            "           0       0.91      0.87      0.89      2762\n",
            "           1       0.80      0.81      0.80      3144\n",
            "\n",
            "    accuracy                           0.80      7430\n",
            "   macro avg       0.78      0.78      0.78      7430\n",
            "weighted avg       0.80      0.80      0.80      7430\n",
            "\n"
          ]
        }
      ]
    },
    {
      "cell_type": "markdown",
      "metadata": {
        "id": "eRTD_LJnuN7-"
      },
      "source": [
        "### **SVM using tfidf**"
      ]
    },
    {
      "cell_type": "code",
      "metadata": {
        "id": "HmDGeQbZO0Ep"
      },
      "source": [
        "accuracysvm=[]\n",
        "f1scoresvm=[]\n",
        "from sklearn import svm\n",
        "svc = svm.SVC()\n",
        "svc.fit(tfidf_train, y_train)\n",
        "y_pred=svc.predict(tfidf_test)"
      ],
      "execution_count": 25,
      "outputs": []
    },
    {
      "cell_type": "code",
      "metadata": {
        "id": "cXZK46QgQPxS",
        "colab": {
          "base_uri": "https://localhost:8080/"
        },
        "outputId": "fddc0dc1-0379-407a-99c8-fbd39579ef42"
      },
      "source": [
        "print(accuracy_score(y_pred,y_test))\n",
        "print(f1_score(y_pred,y_test,average=\"weighted\"))\n",
        "print(classification_report(y_pred,y_test))\n",
        "accuracysvm.append(accuracy_score(y_pred,y_test))\n",
        "f1scoresvm.append(f1_score(y_pred,y_test,average=\"weighted\"))"
      ],
      "execution_count": 26,
      "outputs": [
        {
          "output_type": "stream",
          "name": "stdout",
          "text": [
            "0.8358008075370121\n",
            "0.8424573516153098\n",
            "              precision    recall  f1-score   support\n",
            "\n",
            "          -1       0.58      0.88      0.70      1071\n",
            "           0       0.96      0.80      0.88      3158\n",
            "           1       0.86      0.85      0.86      3201\n",
            "\n",
            "    accuracy                           0.84      7430\n",
            "   macro avg       0.80      0.84      0.81      7430\n",
            "weighted avg       0.86      0.84      0.84      7430\n",
            "\n"
          ]
        }
      ]
    },
    {
      "cell_type": "markdown",
      "metadata": {
        "id": "cPiddPEmuSoo"
      },
      "source": [
        "### **RandomForest using tfidf**"
      ]
    },
    {
      "cell_type": "code",
      "metadata": {
        "id": "sA3r6C8dfbY4"
      },
      "source": [
        "accuracyrf=[]\n",
        "f1scorerf=[]\n",
        "from sklearn.ensemble import RandomForestClassifier\n",
        "rf=RandomForestClassifier()\n",
        "rf.fit(tfidf_train,y_train)\n",
        "y_pred=rf.predict(tfidf_test)"
      ],
      "execution_count": 27,
      "outputs": []
    },
    {
      "cell_type": "code",
      "metadata": {
        "colab": {
          "base_uri": "https://localhost:8080/"
        },
        "id": "9AWQ0oLnhiKS",
        "outputId": "c7546b72-a2cb-4cea-ab32-728fbcb3ac61"
      },
      "source": [
        "print(accuracy_score(y_pred,y_test))\n",
        "print(f1_score(y_pred,y_test,average=\"weighted\"))\n",
        "print(classification_report(y_pred,y_test))\n",
        "accuracyrf.append(accuracy_score(y_pred,y_test))\n",
        "f1scorerf.append(f1_score(y_pred,y_test,average=\"weighted\"))"
      ],
      "execution_count": 28,
      "outputs": [
        {
          "output_type": "stream",
          "name": "stdout",
          "text": [
            "0.819650067294751\n",
            "0.8342991155417667\n",
            "              precision    recall  f1-score   support\n",
            "\n",
            "          -1       0.44      0.91      0.60       798\n",
            "           0       0.95      0.85      0.90      2945\n",
            "           1       0.90      0.78      0.84      3687\n",
            "\n",
            "    accuracy                           0.82      7430\n",
            "   macro avg       0.77      0.84      0.78      7430\n",
            "weighted avg       0.87      0.82      0.83      7430\n",
            "\n"
          ]
        }
      ]
    },
    {
      "cell_type": "markdown",
      "metadata": {
        "id": "djH3dk2-uYHU"
      },
      "source": [
        "### **Models using word2vec**"
      ]
    },
    {
      "cell_type": "code",
      "metadata": {
        "id": "JKLejDAcf4ga"
      },
      "source": [
        "import pickle as pkl\n",
        "EMBEDDING_FILE = \"/content/drive/My Drive/SentimentAnalysisDMTM/w2v.pkl\"\n",
        "def load_w2v(filepath):\n",
        "    with open(filepath, 'rb') as fin:\n",
        "        return pkl.load(fin)\n",
        "word2vec = load_w2v(EMBEDDING_FILE)"
      ],
      "execution_count": 29,
      "outputs": []
    },
    {
      "cell_type": "code",
      "metadata": {
        "id": "bMRfgCE0gqJD"
      },
      "source": [
        "def get_tokens(inp_str):\n",
        "    return inp_str.split()\n",
        "\n",
        "no_embed = set()\n",
        "def w2v(token):\n",
        "    word_vector = np.zeros(300,)\n",
        "    if token in word2vec:\n",
        "      word_vector=word2vec[token]\n",
        "    else: \n",
        "      no_embed.add(token)\n",
        "    return word_vector\n",
        "\n",
        "def string2vec(user_input):\n",
        "    if len(user_input)==0:\n",
        "      return np.zeros(300,)\n",
        "    embedding = np.zeros(300,)\n",
        "    tokens=get_tokens(user_input)\n",
        "    for i in tokens:\n",
        "      embedding+=w2v(i)\n",
        "    embedding/=len(user_input)\n",
        "    return embedding\n",
        "\n",
        "def train_model(user_input):\n",
        "  training_data=[]\n",
        "  for i in user_input:\n",
        "    embedding=string2vec(i)\n",
        "    training_data.append(embedding)\n",
        "  return training_data\n",
        "\n",
        "def test_model(user_input):\n",
        "  test_data=[]\n",
        "  for i in user_input:\n",
        "    embedding=string2vec(i)\n",
        "    test_data.append(embedding)\n",
        "  return test_data\n",
        "training_data=train_model(X_train[\"reddit\"].values.tolist())\n",
        "test_data=test_model(X_test[\"reddit\"].values.tolist())"
      ],
      "execution_count": 30,
      "outputs": []
    },
    {
      "cell_type": "code",
      "metadata": {
        "id": "Lf07JCjegrGL",
        "colab": {
          "base_uri": "https://localhost:8080/"
        },
        "outputId": "7cba0a04-7053-4388-d2b6-041fb778e98f"
      },
      "source": [
        "print(len(no_embed))"
      ],
      "execution_count": 31,
      "outputs": [
        {
          "output_type": "stream",
          "name": "stdout",
          "text": [
            "36088\n"
          ]
        }
      ]
    },
    {
      "cell_type": "code",
      "metadata": {
        "colab": {
          "base_uri": "https://localhost:8080/"
        },
        "id": "5Ae8Lkw4jn3c",
        "outputId": "f17bb09d-db0f-4d5c-f88f-a4d7b7e47373"
      },
      "source": [
        "len(training_data[0])"
      ],
      "execution_count": 32,
      "outputs": [
        {
          "output_type": "execute_result",
          "data": {
            "text/plain": [
              "300"
            ]
          },
          "metadata": {},
          "execution_count": 32
        }
      ]
    },
    {
      "cell_type": "markdown",
      "metadata": {
        "id": "PxKe14uZubTf"
      },
      "source": [
        "### **lr using word2vec**"
      ]
    },
    {
      "cell_type": "code",
      "metadata": {
        "id": "UhHIctUekJMY"
      },
      "source": [
        "from sklearn.linear_model import LogisticRegression\n",
        "from sklearn.metrics import precision_score, recall_score, f1_score, accuracy_score,classification_report\n",
        "\n",
        "lr=LogisticRegression(max_iter=10000)\n",
        "lr=lr.fit(training_data,y_train)\n",
        "y_pred=lr.predict(test_data)"
      ],
      "execution_count": 33,
      "outputs": []
    },
    {
      "cell_type": "code",
      "metadata": {
        "id": "w_z1vsrU5hb2",
        "colab": {
          "base_uri": "https://localhost:8080/"
        },
        "outputId": "72b87167-e153-4d12-c208-b020633988a2"
      },
      "source": [
        "print(accuracy_score(y_pred,y_test))\n",
        "print(f1_score(y_pred,y_test,average=\"weighted\"))\n",
        "print(classification_report(y_pred,y_test))\n",
        "accuracylr.append(accuracy_score(y_pred,y_test))\n",
        "f1scorelr.append(f1_score(y_pred,y_test,average=\"weighted\"))"
      ],
      "execution_count": 34,
      "outputs": [
        {
          "output_type": "stream",
          "name": "stdout",
          "text": [
            "0.5823687752355317\n",
            "0.6378256798638692\n",
            "              precision    recall  f1-score   support\n",
            "\n",
            "          -1       0.06      0.56      0.10       163\n",
            "           0       0.63      0.62      0.62      2654\n",
            "           1       0.82      0.56      0.67      4613\n",
            "\n",
            "    accuracy                           0.58      7430\n",
            "   macro avg       0.50      0.58      0.46      7430\n",
            "weighted avg       0.73      0.58      0.64      7430\n",
            "\n"
          ]
        }
      ]
    },
    {
      "cell_type": "markdown",
      "metadata": {
        "id": "o8YUncoguhLW"
      },
      "source": [
        "## **dt using word2vec**"
      ]
    },
    {
      "cell_type": "code",
      "metadata": {
        "id": "e8SR9S0b3tUJ"
      },
      "source": [
        "from sklearn.tree import DecisionTreeClassifier\n",
        "dt=DecisionTreeClassifier()\n",
        "dt.fit(training_data,y_train)\n",
        "y_pred=dt.predict(test_data)"
      ],
      "execution_count": 35,
      "outputs": []
    },
    {
      "cell_type": "code",
      "metadata": {
        "id": "1bxGdBLr6WPi",
        "colab": {
          "base_uri": "https://localhost:8080/"
        },
        "outputId": "7d145563-0b26-4125-dc57-2c2633f694e7"
      },
      "source": [
        "print(accuracy_score(y_pred,y_test))\n",
        "print(f1_score(y_pred,y_test,average=\"weighted\"))\n",
        "print(classification_report(y_pred,y_test))\n",
        "accuracydt.append(accuracy_score(y_pred,y_test))\n",
        "f1scoredt.append(f1_score(y_pred,y_test,average=\"weighted\"))"
      ],
      "execution_count": 36,
      "outputs": [
        {
          "output_type": "stream",
          "name": "stdout",
          "text": [
            "0.5203230148048452\n",
            "0.5200339431204515\n",
            "              precision    recall  f1-score   support\n",
            "\n",
            "          -1       0.31      0.31      0.31      1660\n",
            "           0       0.61      0.58      0.60      2769\n",
            "           1       0.55      0.58      0.57      3001\n",
            "\n",
            "    accuracy                           0.52      7430\n",
            "   macro avg       0.49      0.49      0.49      7430\n",
            "weighted avg       0.52      0.52      0.52      7430\n",
            "\n"
          ]
        }
      ]
    },
    {
      "cell_type": "markdown",
      "metadata": {
        "id": "xPSoIN3duk9v"
      },
      "source": [
        "### **svm using word2vec**"
      ]
    },
    {
      "cell_type": "code",
      "metadata": {
        "id": "CYuCVqUPX-jw"
      },
      "source": [
        "from sklearn import svm\n",
        "svc = svm.SVC()\n",
        "svc.fit(training_data, y_train)\n",
        "y_pred=svc.predict(test_data)"
      ],
      "execution_count": 37,
      "outputs": []
    },
    {
      "cell_type": "code",
      "metadata": {
        "id": "GvQSv_Tf6ZlE",
        "colab": {
          "base_uri": "https://localhost:8080/"
        },
        "outputId": "b539fec9-da8e-49af-f71d-cb7413c7c1a9"
      },
      "source": [
        "print(accuracy_score(y_pred,y_test))\n",
        "print(f1_score(y_pred,y_test,average=\"weighted\"))\n",
        "print(classification_report(y_pred,y_test))\n",
        "accuracysvm.append(accuracy_score(y_pred,y_test))\n",
        "f1scoresvm.append(f1_score(y_pred,y_test,average=\"weighted\"))"
      ],
      "execution_count": 38,
      "outputs": [
        {
          "output_type": "stream",
          "name": "stdout",
          "text": [
            "0.6720053835800808\n",
            "0.6984343223740571\n",
            "              precision    recall  f1-score   support\n",
            "\n",
            "          -1       0.24      0.64      0.35       599\n",
            "           0       0.80      0.70      0.75      2996\n",
            "           1       0.79      0.66      0.72      3835\n",
            "\n",
            "    accuracy                           0.67      7430\n",
            "   macro avg       0.61      0.67      0.60      7430\n",
            "weighted avg       0.75      0.67      0.70      7430\n",
            "\n"
          ]
        }
      ]
    },
    {
      "cell_type": "markdown",
      "metadata": {
        "id": "W5MZh45uuoTm"
      },
      "source": [
        "### **random forest using word2vec**"
      ]
    },
    {
      "cell_type": "code",
      "metadata": {
        "id": "i_L2eLCEjpd2"
      },
      "source": [
        "from sklearn.ensemble import RandomForestClassifier\n",
        "rf=RandomForestClassifier()\n",
        "rf.fit(training_data,y_train)\n",
        "y_pred=rf.predict(test_data)"
      ],
      "execution_count": 39,
      "outputs": []
    },
    {
      "cell_type": "code",
      "metadata": {
        "id": "sXEj7X1ljqW3",
        "colab": {
          "base_uri": "https://localhost:8080/"
        },
        "outputId": "2b340d05-4d15-4060-e250-29a1be9d0b98"
      },
      "source": [
        "print(accuracy_score(y_pred,y_test))\n",
        "print(f1_score(y_pred,y_test,average=\"weighted\"))\n",
        "print(classification_report(y_pred,y_test))\n",
        "accuracyrf.append(accuracy_score(y_pred,y_test))\n",
        "f1scorerf.append(f1_score(y_pred,y_test,average=\"weighted\"))"
      ],
      "execution_count": 40,
      "outputs": [
        {
          "output_type": "stream",
          "name": "stdout",
          "text": [
            "0.6332436069986541\n",
            "0.6756673259128115\n",
            "              precision    recall  f1-score   support\n",
            "\n",
            "          -1       0.12      0.57      0.20       349\n",
            "           0       0.77      0.67      0.72      3053\n",
            "           1       0.78      0.61      0.69      4028\n",
            "\n",
            "    accuracy                           0.63      7430\n",
            "   macro avg       0.56      0.62      0.53      7430\n",
            "weighted avg       0.75      0.63      0.68      7430\n",
            "\n"
          ]
        }
      ]
    },
    {
      "cell_type": "markdown",
      "metadata": {
        "id": "RankcFHyurm6"
      },
      "source": [
        "### **Glove Embedding**"
      ]
    },
    {
      "cell_type": "code",
      "metadata": {
        "colab": {
          "base_uri": "https://localhost:8080/"
        },
        "id": "-iUZxfJJ6uqq",
        "outputId": "884aaead-0340-462e-a100-b4dde53ce7f9"
      },
      "source": [
        "embeddings_index = dict()\n",
        "f = open('/content/drive/My Drive/SentimentAnalysisDMTM/glove.twitter.27B.50d.txt')\n",
        "for line in f:\n",
        "    values = line.split()\n",
        "    word = values[0]\n",
        "    coefs = np.asarray(values[1:], dtype='float32')\n",
        "    embeddings_index[word] = coefs\n",
        "f.close()\n",
        "print('Loaded %s word vectors.' % len(embeddings_index))"
      ],
      "execution_count": 41,
      "outputs": [
        {
          "output_type": "stream",
          "name": "stdout",
          "text": [
            "Loaded 1193514 word vectors.\n"
          ]
        }
      ]
    },
    {
      "cell_type": "code",
      "metadata": {
        "id": "dhBA4677A4XG"
      },
      "source": [
        "def get_tokens(inp_str):\n",
        "    return inp_str.split()\n",
        "\n",
        "no_embed = set()\n",
        "def w2v(token):\n",
        "    word_vector = np.zeros(50,)\n",
        "    if token in embeddings_index:\n",
        "      word_vector=embeddings_index[token]\n",
        "    else: \n",
        "      no_embed.add(token)\n",
        "    return word_vector\n",
        "\n",
        "def string2vec(user_input):\n",
        "    if len(user_input)==0:\n",
        "      return np.zeros(50,)\n",
        "    embedding = np.zeros(50,)\n",
        "    tokens=get_tokens(user_input)\n",
        "    for i in tokens:\n",
        "      embedding+=w2v(i)\n",
        "    embedding/=len(user_input)\n",
        "    return embedding\n",
        "\n",
        "def train_model(user_input):\n",
        "  training_data=[]\n",
        "  for i in user_input:\n",
        "    embedding=string2vec(i)\n",
        "    training_data.append(embedding)\n",
        "  return training_data\n",
        "\n",
        "def test_model(user_input):\n",
        "  test_data=[]\n",
        "  for i in user_input:\n",
        "    embedding=string2vec(i)\n",
        "    test_data.append(embedding)\n",
        "  return test_data\n",
        "training_data=train_model(X_train[\"reddit\"].values.tolist())\n",
        "test_data=test_model(X_test[\"reddit\"].values.tolist())"
      ],
      "execution_count": 42,
      "outputs": []
    },
    {
      "cell_type": "code",
      "metadata": {
        "colab": {
          "base_uri": "https://localhost:8080/"
        },
        "id": "gmGByD4smh0i",
        "outputId": "62d72f5b-5473-4d14-f1f1-d9a3df1f18ba"
      },
      "source": [
        "print(len(no_embed))"
      ],
      "execution_count": 43,
      "outputs": [
        {
          "output_type": "stream",
          "name": "stdout",
          "text": [
            "14455\n"
          ]
        }
      ]
    },
    {
      "cell_type": "markdown",
      "metadata": {
        "id": "DANNdSYEuxLn"
      },
      "source": [
        "### **lr using glove embedding**"
      ]
    },
    {
      "cell_type": "code",
      "metadata": {
        "id": "fD0qzi3qBFAd"
      },
      "source": [
        "from sklearn.linear_model import LogisticRegression\n",
        "from sklearn.metrics import precision_score, recall_score, f1_score, accuracy_score,classification_report\n",
        "\n",
        "lr=LogisticRegression(max_iter=10000)\n",
        "lr=lr.fit(training_data,y_train)\n",
        "y_pred=lr.predict(test_data)"
      ],
      "execution_count": 44,
      "outputs": []
    },
    {
      "cell_type": "code",
      "metadata": {
        "id": "b4OCwmL0j4h1",
        "colab": {
          "base_uri": "https://localhost:8080/"
        },
        "outputId": "84cd8989-9591-4013-d5bd-513934c85d72"
      },
      "source": [
        "print(accuracy_score(y_pred,y_test))\n",
        "print(f1_score(y_pred,y_test,average=\"weighted\"))\n",
        "print(classification_report(y_pred,y_test))\n",
        "accuracylr.append(accuracy_score(y_pred,y_test))\n",
        "f1scorelr.append(f1_score(y_pred,y_test,average=\"weighted\"))"
      ],
      "execution_count": 45,
      "outputs": [
        {
          "output_type": "stream",
          "name": "stdout",
          "text": [
            "0.5973082099596232\n",
            "0.6219155232732457\n",
            "              precision    recall  f1-score   support\n",
            "\n",
            "          -1       0.22      0.52      0.30       678\n",
            "           0       0.59      0.65      0.62      2398\n",
            "           1       0.80      0.58      0.68      4354\n",
            "\n",
            "    accuracy                           0.60      7430\n",
            "   macro avg       0.53      0.58      0.53      7430\n",
            "weighted avg       0.68      0.60      0.62      7430\n",
            "\n"
          ]
        }
      ]
    },
    {
      "cell_type": "markdown",
      "metadata": {
        "id": "Sd42YloKu0N2"
      },
      "source": [
        "### **dt using glove**"
      ]
    },
    {
      "cell_type": "code",
      "metadata": {
        "id": "L3pdaLtWCJWC"
      },
      "source": [
        "from sklearn.tree import DecisionTreeClassifier\n",
        "dt=DecisionTreeClassifier()\n",
        "dt.fit(training_data,y_train)\n",
        "y_pred=dt.predict(test_data)"
      ],
      "execution_count": 46,
      "outputs": []
    },
    {
      "cell_type": "code",
      "metadata": {
        "id": "JHz8toF4CNw7",
        "colab": {
          "base_uri": "https://localhost:8080/"
        },
        "outputId": "2ac4ae72-b08f-4206-cdf6-ff03025476ad"
      },
      "source": [
        "print(accuracy_score(y_pred,y_test))\n",
        "print(f1_score(y_pred,y_test,average=\"weighted\"))\n",
        "print(classification_report(y_pred,y_test))\n",
        "accuracydt.append(accuracy_score(y_pred,y_test))\n",
        "f1scoredt.append(f1_score(y_pred,y_test,average=\"weighted\"))"
      ],
      "execution_count": 47,
      "outputs": [
        {
          "output_type": "stream",
          "name": "stdout",
          "text": [
            "0.5321668909825034\n",
            "0.5295274050268133\n",
            "              precision    recall  f1-score   support\n",
            "\n",
            "          -1       0.36      0.33      0.34      1785\n",
            "           0       0.59      0.61      0.60      2557\n",
            "           1       0.58      0.59      0.58      3088\n",
            "\n",
            "    accuracy                           0.53      7430\n",
            "   macro avg       0.51      0.51      0.51      7430\n",
            "weighted avg       0.53      0.53      0.53      7430\n",
            "\n"
          ]
        }
      ]
    },
    {
      "cell_type": "markdown",
      "metadata": {
        "id": "kGvMZrPru3dr"
      },
      "source": [
        "### **SVM using Glove**"
      ]
    },
    {
      "cell_type": "code",
      "metadata": {
        "id": "JYg4m-zlCPh3"
      },
      "source": [
        "from sklearn import svm\n",
        "svc = svm.SVC()\n",
        "svc.fit(training_data, y_train)\n",
        "y_pred=svc.predict(test_data)"
      ],
      "execution_count": 48,
      "outputs": []
    },
    {
      "cell_type": "code",
      "metadata": {
        "id": "niKqKD0hCmJe",
        "colab": {
          "base_uri": "https://localhost:8080/"
        },
        "outputId": "f87d9c8b-acef-49b5-9415-676b156a7f55"
      },
      "source": [
        "print(accuracy_score(y_pred,y_test))\n",
        "print(f1_score(y_pred,y_test,average=\"weighted\"))\n",
        "print(classification_report(y_pred,y_test))\n",
        "accuracysvm.append(accuracy_score(y_pred,y_test))\n",
        "f1scoresvm.append(f1_score(y_pred,y_test,average=\"weighted\"))"
      ],
      "execution_count": 49,
      "outputs": [
        {
          "output_type": "stream",
          "name": "stdout",
          "text": [
            "0.6755047106325707\n",
            "0.6967150318514819\n",
            "              precision    recall  f1-score   support\n",
            "\n",
            "          -1       0.27      0.61      0.37       719\n",
            "           0       0.70      0.78      0.74      2353\n",
            "           1       0.86      0.63      0.73      4358\n",
            "\n",
            "    accuracy                           0.68      7430\n",
            "   macro avg       0.61      0.67      0.61      7430\n",
            "weighted avg       0.75      0.68      0.70      7430\n",
            "\n"
          ]
        }
      ]
    },
    {
      "cell_type": "markdown",
      "metadata": {
        "id": "qfN5weGku6ZC"
      },
      "source": [
        "### **randomforest using GLove**"
      ]
    },
    {
      "cell_type": "code",
      "metadata": {
        "id": "FzxxyyRcklBd"
      },
      "source": [
        "from sklearn.ensemble import RandomForestClassifier\n",
        "rf=RandomForestClassifier()\n",
        "rf.fit(training_data,y_train)\n",
        "y_pred=rf.predict(test_data)"
      ],
      "execution_count": 50,
      "outputs": []
    },
    {
      "cell_type": "code",
      "metadata": {
        "id": "IQHqhMyNlEcQ",
        "colab": {
          "base_uri": "https://localhost:8080/"
        },
        "outputId": "4e8c37f7-f13e-43cc-d6fd-5850b773f406"
      },
      "source": [
        "print(accuracy_score(y_pred,y_test))\n",
        "print(f1_score(y_pred,y_test,average=\"weighted\"))\n",
        "print(classification_report(y_pred,y_test))\n",
        "accuracyrf.append(accuracy_score(y_pred,y_test))\n",
        "f1scorerf.append(f1_score(y_pred,y_test,average=\"weighted\"))"
      ],
      "execution_count": 51,
      "outputs": [
        {
          "output_type": "stream",
          "name": "stdout",
          "text": [
            "0.6499327052489906\n",
            "0.6690998945139974\n",
            "              precision    recall  f1-score   support\n",
            "\n",
            "          -1       0.27      0.57      0.37       769\n",
            "           0       0.75      0.69      0.72      2845\n",
            "           1       0.76      0.63      0.69      3816\n",
            "\n",
            "    accuracy                           0.65      7430\n",
            "   macro avg       0.59      0.63      0.59      7430\n",
            "weighted avg       0.71      0.65      0.67      7430\n",
            "\n"
          ]
        }
      ]
    },
    {
      "cell_type": "code",
      "metadata": {
        "colab": {
          "base_uri": "https://localhost:8080/",
          "height": 427
        },
        "id": "oniUbCLRyXls",
        "outputId": "b0ce87a4-69eb-4f50-adcb-d427da1198ec"
      },
      "source": [
        "import matplotlib.pyplot as plt\n",
        "from matplotlib.pyplot import figure\n",
        "\n",
        "figure(figsize=(8, 6), dpi=80)\n",
        "X=['Logistic Regression', 'SVM', 'Decision Tree', 'Random Forest']\n",
        "\n",
        "allAcc = accuracylr+accuracysvm+accuracydt+accuracyrf\n",
        "tfidf = [accuracylr[0], accuracysvm[0], accuracydt[0], accuracyrf[0]]\n",
        "w2v = [accuracylr[1], accuracysvm[1], accuracydt[1], accuracyrf[1]]\n",
        "glv = [accuracylr[2], accuracysvm[2], accuracydt[2], accuracyrf[2]]\n",
        "\n",
        "\n",
        "X_axis = np.arange(len(X))\n",
        "plt.bar(X_axis-0.2,tfidf,0.2, label='tfidf')\n",
        "plt.bar(X_axis,w2v,0.2, label='w2v')\n",
        "plt.bar(X_axis+0.2,glv,0.2, label='glv')\n",
        "\n",
        "plt.xticks(X_axis, X)\n",
        "plt.xlabel(\"Models\")\n",
        "plt.ylabel(\"Accuracy\")\n",
        "plt.legend()\n",
        "plt.show()"
      ],
      "execution_count": 54,
      "outputs": [
        {
          "output_type": "display_data",
          "data": {
            "image/png": "[encoded data removed]",
            "text/plain": [
              "<Figure size 640x480 with 1 Axes>"
            ]
          },
          "metadata": {
            "needs_background": "light"
          }
        }
      ]
    },
    {
      "cell_type": "code",
      "metadata": {
        "id": "yBffYD3BnNxj"
      },
      "source": [
        ""
      ],
      "execution_count": null,
      "outputs": []
    }
  ]
}